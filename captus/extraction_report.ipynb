{
 "cells": [
  {
   "cell_type": "code",
   "execution_count": null,
   "metadata": {},
   "outputs": [],
   "source": [
    "# Copyright 2020 Gentaro Shigita (gentaro.shigita@tum.de)\n",
    "# https://github.com/edgardomortiz/Captus\n",
    "\n",
    "# This file is part of Captus. Captus is free software: you can redistribute it and/or modify\n",
    "# it under the terms of the GNU General Public License as published by the Free Software Foundation,\n",
    "# either version 3 of the License, or (at your option) any later version. Captus is distributed in\n",
    "# the hope that it will be useful, but WITHOUT ANY WARRANTY; without even the implied warranty of\n",
    "# MERCHANTABILITY or FITNESS FOR A PARTICULAR PURPOSE.  See the GNU General Public License for more\n",
    "# details. You should have received a copy of the GNU General Public License along with Captus. If\n",
    "# not, see <http://www.gnu.org/licenses/>."
   ]
  },
  {
   "cell_type": "markdown",
   "metadata": {},
   "source": [
    "# Captus-assembly: Extract (Marker Recovery Report)"
   ]
  }
 ],
 "metadata": {
  "kernelspec": {
   "display_name": "Python 3",
   "language": "python",
   "name": "python3"
  },
  "language_info": {
   "codemirror_mode": {
    "name": "ipython",
    "version": 3
   },
   "file_extension": ".py",
   "mimetype": "text/x-python",
   "name": "python",
   "nbconvert_exporter": "python",
   "pygments_lexer": "ipython3",
   "version": "3.8.3"
  },
  "toc-showtags": false
 },
 "nbformat": 4,
 "nbformat_minor": 4
}